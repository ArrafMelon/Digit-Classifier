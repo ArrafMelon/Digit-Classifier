{
 "cells": [
  {
   "cell_type": "markdown",
   "id": "447645c8",
   "metadata": {},
   "source": [
    "# Building a Handwritten Digits Classifier"
   ]
  },
  {
   "cell_type": "markdown",
   "id": "8c792add",
   "metadata": {},
   "source": [
    "#### Import Libraries"
   ]
  },
  {
   "cell_type": "code",
   "execution_count": 1,
   "id": "52dd4ca7",
   "metadata": {},
   "outputs": [],
   "source": [
    "import pandas as pd\n",
    "import numpy as np\n",
    "import matplotlib.pyplot as plt"
   ]
  },
  {
   "cell_type": "markdown",
   "id": "c755bb8f",
   "metadata": {},
   "source": [
    "#### Initial Data exploration"
   ]
  },
  {
   "cell_type": "code",
   "execution_count": 2,
   "id": "97156e45",
   "metadata": {},
   "outputs": [
    {
     "data": {
      "text/plain": [
       "{'data': array([[ 0.,  0.,  5., ...,  0.,  0.,  0.],\n",
       "        [ 0.,  0.,  0., ..., 10.,  0.,  0.],\n",
       "        [ 0.,  0.,  0., ..., 16.,  9.,  0.],\n",
       "        ...,\n",
       "        [ 0.,  0.,  1., ...,  6.,  0.,  0.],\n",
       "        [ 0.,  0.,  2., ..., 12.,  0.,  0.],\n",
       "        [ 0.,  0., 10., ..., 12.,  1.,  0.]]),\n",
       " 'target': array([0, 1, 2, ..., 8, 9, 8]),\n",
       " 'frame': None,\n",
       " 'feature_names': ['pixel_0_0',\n",
       "  'pixel_0_1',\n",
       "  'pixel_0_2',\n",
       "  'pixel_0_3',\n",
       "  'pixel_0_4',\n",
       "  'pixel_0_5',\n",
       "  'pixel_0_6',\n",
       "  'pixel_0_7',\n",
       "  'pixel_1_0',\n",
       "  'pixel_1_1',\n",
       "  'pixel_1_2',\n",
       "  'pixel_1_3',\n",
       "  'pixel_1_4',\n",
       "  'pixel_1_5',\n",
       "  'pixel_1_6',\n",
       "  'pixel_1_7',\n",
       "  'pixel_2_0',\n",
       "  'pixel_2_1',\n",
       "  'pixel_2_2',\n",
       "  'pixel_2_3',\n",
       "  'pixel_2_4',\n",
       "  'pixel_2_5',\n",
       "  'pixel_2_6',\n",
       "  'pixel_2_7',\n",
       "  'pixel_3_0',\n",
       "  'pixel_3_1',\n",
       "  'pixel_3_2',\n",
       "  'pixel_3_3',\n",
       "  'pixel_3_4',\n",
       "  'pixel_3_5',\n",
       "  'pixel_3_6',\n",
       "  'pixel_3_7',\n",
       "  'pixel_4_0',\n",
       "  'pixel_4_1',\n",
       "  'pixel_4_2',\n",
       "  'pixel_4_3',\n",
       "  'pixel_4_4',\n",
       "  'pixel_4_5',\n",
       "  'pixel_4_6',\n",
       "  'pixel_4_7',\n",
       "  'pixel_5_0',\n",
       "  'pixel_5_1',\n",
       "  'pixel_5_2',\n",
       "  'pixel_5_3',\n",
       "  'pixel_5_4',\n",
       "  'pixel_5_5',\n",
       "  'pixel_5_6',\n",
       "  'pixel_5_7',\n",
       "  'pixel_6_0',\n",
       "  'pixel_6_1',\n",
       "  'pixel_6_2',\n",
       "  'pixel_6_3',\n",
       "  'pixel_6_4',\n",
       "  'pixel_6_5',\n",
       "  'pixel_6_6',\n",
       "  'pixel_6_7',\n",
       "  'pixel_7_0',\n",
       "  'pixel_7_1',\n",
       "  'pixel_7_2',\n",
       "  'pixel_7_3',\n",
       "  'pixel_7_4',\n",
       "  'pixel_7_5',\n",
       "  'pixel_7_6',\n",
       "  'pixel_7_7'],\n",
       " 'target_names': array([0, 1, 2, 3, 4, 5, 6, 7, 8, 9]),\n",
       " 'images': array([[[ 0.,  0.,  5., ...,  1.,  0.,  0.],\n",
       "         [ 0.,  0., 13., ..., 15.,  5.,  0.],\n",
       "         [ 0.,  3., 15., ..., 11.,  8.,  0.],\n",
       "         ...,\n",
       "         [ 0.,  4., 11., ..., 12.,  7.,  0.],\n",
       "         [ 0.,  2., 14., ..., 12.,  0.,  0.],\n",
       "         [ 0.,  0.,  6., ...,  0.,  0.,  0.]],\n",
       " \n",
       "        [[ 0.,  0.,  0., ...,  5.,  0.,  0.],\n",
       "         [ 0.,  0.,  0., ...,  9.,  0.,  0.],\n",
       "         [ 0.,  0.,  3., ...,  6.,  0.,  0.],\n",
       "         ...,\n",
       "         [ 0.,  0.,  1., ...,  6.,  0.,  0.],\n",
       "         [ 0.,  0.,  1., ...,  6.,  0.,  0.],\n",
       "         [ 0.,  0.,  0., ..., 10.,  0.,  0.]],\n",
       " \n",
       "        [[ 0.,  0.,  0., ..., 12.,  0.,  0.],\n",
       "         [ 0.,  0.,  3., ..., 14.,  0.,  0.],\n",
       "         [ 0.,  0.,  8., ..., 16.,  0.,  0.],\n",
       "         ...,\n",
       "         [ 0.,  9., 16., ...,  0.,  0.,  0.],\n",
       "         [ 0.,  3., 13., ..., 11.,  5.,  0.],\n",
       "         [ 0.,  0.,  0., ..., 16.,  9.,  0.]],\n",
       " \n",
       "        ...,\n",
       " \n",
       "        [[ 0.,  0.,  1., ...,  1.,  0.,  0.],\n",
       "         [ 0.,  0., 13., ...,  2.,  1.,  0.],\n",
       "         [ 0.,  0., 16., ..., 16.,  5.,  0.],\n",
       "         ...,\n",
       "         [ 0.,  0., 16., ..., 15.,  0.,  0.],\n",
       "         [ 0.,  0., 15., ..., 16.,  0.,  0.],\n",
       "         [ 0.,  0.,  2., ...,  6.,  0.,  0.]],\n",
       " \n",
       "        [[ 0.,  0.,  2., ...,  0.,  0.,  0.],\n",
       "         [ 0.,  0., 14., ..., 15.,  1.,  0.],\n",
       "         [ 0.,  4., 16., ..., 16.,  7.,  0.],\n",
       "         ...,\n",
       "         [ 0.,  0.,  0., ..., 16.,  2.,  0.],\n",
       "         [ 0.,  0.,  4., ..., 16.,  2.,  0.],\n",
       "         [ 0.,  0.,  5., ..., 12.,  0.,  0.]],\n",
       " \n",
       "        [[ 0.,  0., 10., ...,  1.,  0.,  0.],\n",
       "         [ 0.,  2., 16., ...,  1.,  0.,  0.],\n",
       "         [ 0.,  0., 15., ..., 15.,  0.,  0.],\n",
       "         ...,\n",
       "         [ 0.,  4., 16., ..., 16.,  6.,  0.],\n",
       "         [ 0.,  8., 16., ..., 16.,  8.,  0.],\n",
       "         [ 0.,  1.,  8., ..., 12.,  1.,  0.]]]),\n",
       " 'DESCR': \".. _digits_dataset:\\n\\nOptical recognition of handwritten digits dataset\\n--------------------------------------------------\\n\\n**Data Set Characteristics:**\\n\\n    :Number of Instances: 1797\\n    :Number of Attributes: 64\\n    :Attribute Information: 8x8 image of integer pixels in the range 0..16.\\n    :Missing Attribute Values: None\\n    :Creator: E. Alpaydin (alpaydin '@' boun.edu.tr)\\n    :Date: July; 1998\\n\\nThis is a copy of the test set of the UCI ML hand-written digits datasets\\nhttps://archive.ics.uci.edu/ml/datasets/Optical+Recognition+of+Handwritten+Digits\\n\\nThe data set contains images of hand-written digits: 10 classes where\\neach class refers to a digit.\\n\\nPreprocessing programs made available by NIST were used to extract\\nnormalized bitmaps of handwritten digits from a preprinted form. From a\\ntotal of 43 people, 30 contributed to the training set and different 13\\nto the test set. 32x32 bitmaps are divided into nonoverlapping blocks of\\n4x4 and the number of on pixels are counted in each block. This generates\\nan input matrix of 8x8 where each element is an integer in the range\\n0..16. This reduces dimensionality and gives invariance to small\\ndistortions.\\n\\nFor info on NIST preprocessing routines, see M. D. Garris, J. L. Blue, G.\\nT. Candela, D. L. Dimmick, J. Geist, P. J. Grother, S. A. Janet, and C.\\nL. Wilson, NIST Form-Based Handprint Recognition System, NISTIR 5469,\\n1994.\\n\\n.. topic:: References\\n\\n  - C. Kaynak (1995) Methods of Combining Multiple Classifiers and Their\\n    Applications to Handwritten Digit Recognition, MSc Thesis, Institute of\\n    Graduate Studies in Science and Engineering, Bogazici University.\\n  - E. Alpaydin, C. Kaynak (1998) Cascading Classifiers, Kybernetika.\\n  - Ken Tang and Ponnuthurai N. Suganthan and Xi Yao and A. Kai Qin.\\n    Linear dimensionalityreduction using relevance weighted LDA. School of\\n    Electrical and Electronic Engineering Nanyang Technological University.\\n    2005.\\n  - Claudio Gentile. A New Approximate Maximal Margin Classification\\n    Algorithm. NIPS. 2000.\\n\"}"
      ]
     },
     "execution_count": 2,
     "metadata": {},
     "output_type": "execute_result"
    }
   ],
   "source": [
    "## Dataset is loaded from sklearn.datasets\n",
    "from sklearn.datasets import load_digits\n",
    "image_data = load_digits()\n",
    "image_data"
   ]
  },
  {
   "cell_type": "code",
   "execution_count": 3,
   "id": "a04c8c21",
   "metadata": {},
   "outputs": [
    {
     "data": {
      "text/html": [
       "<div>\n",
       "<style scoped>\n",
       "    .dataframe tbody tr th:only-of-type {\n",
       "        vertical-align: middle;\n",
       "    }\n",
       "\n",
       "    .dataframe tbody tr th {\n",
       "        vertical-align: top;\n",
       "    }\n",
       "\n",
       "    .dataframe thead th {\n",
       "        text-align: right;\n",
       "    }\n",
       "</style>\n",
       "<table border=\"1\" class=\"dataframe\">\n",
       "  <thead>\n",
       "    <tr style=\"text-align: right;\">\n",
       "      <th></th>\n",
       "      <th>pixel_0_0</th>\n",
       "      <th>pixel_0_1</th>\n",
       "      <th>pixel_0_2</th>\n",
       "      <th>pixel_0_3</th>\n",
       "      <th>pixel_0_4</th>\n",
       "      <th>pixel_0_5</th>\n",
       "      <th>pixel_0_6</th>\n",
       "      <th>pixel_0_7</th>\n",
       "      <th>pixel_1_0</th>\n",
       "      <th>pixel_1_1</th>\n",
       "      <th>...</th>\n",
       "      <th>pixel_6_7</th>\n",
       "      <th>pixel_7_0</th>\n",
       "      <th>pixel_7_1</th>\n",
       "      <th>pixel_7_2</th>\n",
       "      <th>pixel_7_3</th>\n",
       "      <th>pixel_7_4</th>\n",
       "      <th>pixel_7_5</th>\n",
       "      <th>pixel_7_6</th>\n",
       "      <th>pixel_7_7</th>\n",
       "      <th>target_number</th>\n",
       "    </tr>\n",
       "  </thead>\n",
       "  <tbody>\n",
       "    <tr>\n",
       "      <th>0</th>\n",
       "      <td>0.0</td>\n",
       "      <td>0.0</td>\n",
       "      <td>5.0</td>\n",
       "      <td>13.0</td>\n",
       "      <td>9.0</td>\n",
       "      <td>1.0</td>\n",
       "      <td>0.0</td>\n",
       "      <td>0.0</td>\n",
       "      <td>0.0</td>\n",
       "      <td>0.0</td>\n",
       "      <td>...</td>\n",
       "      <td>0.0</td>\n",
       "      <td>0.0</td>\n",
       "      <td>0.0</td>\n",
       "      <td>6.0</td>\n",
       "      <td>13.0</td>\n",
       "      <td>10.0</td>\n",
       "      <td>0.0</td>\n",
       "      <td>0.0</td>\n",
       "      <td>0.0</td>\n",
       "      <td>0</td>\n",
       "    </tr>\n",
       "    <tr>\n",
       "      <th>1</th>\n",
       "      <td>0.0</td>\n",
       "      <td>0.0</td>\n",
       "      <td>0.0</td>\n",
       "      <td>12.0</td>\n",
       "      <td>13.0</td>\n",
       "      <td>5.0</td>\n",
       "      <td>0.0</td>\n",
       "      <td>0.0</td>\n",
       "      <td>0.0</td>\n",
       "      <td>0.0</td>\n",
       "      <td>...</td>\n",
       "      <td>0.0</td>\n",
       "      <td>0.0</td>\n",
       "      <td>0.0</td>\n",
       "      <td>0.0</td>\n",
       "      <td>11.0</td>\n",
       "      <td>16.0</td>\n",
       "      <td>10.0</td>\n",
       "      <td>0.0</td>\n",
       "      <td>0.0</td>\n",
       "      <td>1</td>\n",
       "    </tr>\n",
       "    <tr>\n",
       "      <th>2</th>\n",
       "      <td>0.0</td>\n",
       "      <td>0.0</td>\n",
       "      <td>0.0</td>\n",
       "      <td>4.0</td>\n",
       "      <td>15.0</td>\n",
       "      <td>12.0</td>\n",
       "      <td>0.0</td>\n",
       "      <td>0.0</td>\n",
       "      <td>0.0</td>\n",
       "      <td>0.0</td>\n",
       "      <td>...</td>\n",
       "      <td>0.0</td>\n",
       "      <td>0.0</td>\n",
       "      <td>0.0</td>\n",
       "      <td>0.0</td>\n",
       "      <td>3.0</td>\n",
       "      <td>11.0</td>\n",
       "      <td>16.0</td>\n",
       "      <td>9.0</td>\n",
       "      <td>0.0</td>\n",
       "      <td>2</td>\n",
       "    </tr>\n",
       "    <tr>\n",
       "      <th>3</th>\n",
       "      <td>0.0</td>\n",
       "      <td>0.0</td>\n",
       "      <td>7.0</td>\n",
       "      <td>15.0</td>\n",
       "      <td>13.0</td>\n",
       "      <td>1.0</td>\n",
       "      <td>0.0</td>\n",
       "      <td>0.0</td>\n",
       "      <td>0.0</td>\n",
       "      <td>8.0</td>\n",
       "      <td>...</td>\n",
       "      <td>0.0</td>\n",
       "      <td>0.0</td>\n",
       "      <td>0.0</td>\n",
       "      <td>7.0</td>\n",
       "      <td>13.0</td>\n",
       "      <td>13.0</td>\n",
       "      <td>9.0</td>\n",
       "      <td>0.0</td>\n",
       "      <td>0.0</td>\n",
       "      <td>3</td>\n",
       "    </tr>\n",
       "    <tr>\n",
       "      <th>4</th>\n",
       "      <td>0.0</td>\n",
       "      <td>0.0</td>\n",
       "      <td>0.0</td>\n",
       "      <td>1.0</td>\n",
       "      <td>11.0</td>\n",
       "      <td>0.0</td>\n",
       "      <td>0.0</td>\n",
       "      <td>0.0</td>\n",
       "      <td>0.0</td>\n",
       "      <td>0.0</td>\n",
       "      <td>...</td>\n",
       "      <td>0.0</td>\n",
       "      <td>0.0</td>\n",
       "      <td>0.0</td>\n",
       "      <td>0.0</td>\n",
       "      <td>2.0</td>\n",
       "      <td>16.0</td>\n",
       "      <td>4.0</td>\n",
       "      <td>0.0</td>\n",
       "      <td>0.0</td>\n",
       "      <td>4</td>\n",
       "    </tr>\n",
       "    <tr>\n",
       "      <th>...</th>\n",
       "      <td>...</td>\n",
       "      <td>...</td>\n",
       "      <td>...</td>\n",
       "      <td>...</td>\n",
       "      <td>...</td>\n",
       "      <td>...</td>\n",
       "      <td>...</td>\n",
       "      <td>...</td>\n",
       "      <td>...</td>\n",
       "      <td>...</td>\n",
       "      <td>...</td>\n",
       "      <td>...</td>\n",
       "      <td>...</td>\n",
       "      <td>...</td>\n",
       "      <td>...</td>\n",
       "      <td>...</td>\n",
       "      <td>...</td>\n",
       "      <td>...</td>\n",
       "      <td>...</td>\n",
       "      <td>...</td>\n",
       "      <td>...</td>\n",
       "    </tr>\n",
       "    <tr>\n",
       "      <th>1792</th>\n",
       "      <td>0.0</td>\n",
       "      <td>0.0</td>\n",
       "      <td>4.0</td>\n",
       "      <td>10.0</td>\n",
       "      <td>13.0</td>\n",
       "      <td>6.0</td>\n",
       "      <td>0.0</td>\n",
       "      <td>0.0</td>\n",
       "      <td>0.0</td>\n",
       "      <td>1.0</td>\n",
       "      <td>...</td>\n",
       "      <td>0.0</td>\n",
       "      <td>0.0</td>\n",
       "      <td>0.0</td>\n",
       "      <td>2.0</td>\n",
       "      <td>14.0</td>\n",
       "      <td>15.0</td>\n",
       "      <td>9.0</td>\n",
       "      <td>0.0</td>\n",
       "      <td>0.0</td>\n",
       "      <td>9</td>\n",
       "    </tr>\n",
       "    <tr>\n",
       "      <th>1793</th>\n",
       "      <td>0.0</td>\n",
       "      <td>0.0</td>\n",
       "      <td>6.0</td>\n",
       "      <td>16.0</td>\n",
       "      <td>13.0</td>\n",
       "      <td>11.0</td>\n",
       "      <td>1.0</td>\n",
       "      <td>0.0</td>\n",
       "      <td>0.0</td>\n",
       "      <td>0.0</td>\n",
       "      <td>...</td>\n",
       "      <td>0.0</td>\n",
       "      <td>0.0</td>\n",
       "      <td>0.0</td>\n",
       "      <td>6.0</td>\n",
       "      <td>16.0</td>\n",
       "      <td>14.0</td>\n",
       "      <td>6.0</td>\n",
       "      <td>0.0</td>\n",
       "      <td>0.0</td>\n",
       "      <td>0</td>\n",
       "    </tr>\n",
       "    <tr>\n",
       "      <th>1794</th>\n",
       "      <td>0.0</td>\n",
       "      <td>0.0</td>\n",
       "      <td>1.0</td>\n",
       "      <td>11.0</td>\n",
       "      <td>15.0</td>\n",
       "      <td>1.0</td>\n",
       "      <td>0.0</td>\n",
       "      <td>0.0</td>\n",
       "      <td>0.0</td>\n",
       "      <td>0.0</td>\n",
       "      <td>...</td>\n",
       "      <td>0.0</td>\n",
       "      <td>0.0</td>\n",
       "      <td>0.0</td>\n",
       "      <td>2.0</td>\n",
       "      <td>9.0</td>\n",
       "      <td>13.0</td>\n",
       "      <td>6.0</td>\n",
       "      <td>0.0</td>\n",
       "      <td>0.0</td>\n",
       "      <td>8</td>\n",
       "    </tr>\n",
       "    <tr>\n",
       "      <th>1795</th>\n",
       "      <td>0.0</td>\n",
       "      <td>0.0</td>\n",
       "      <td>2.0</td>\n",
       "      <td>10.0</td>\n",
       "      <td>7.0</td>\n",
       "      <td>0.0</td>\n",
       "      <td>0.0</td>\n",
       "      <td>0.0</td>\n",
       "      <td>0.0</td>\n",
       "      <td>0.0</td>\n",
       "      <td>...</td>\n",
       "      <td>0.0</td>\n",
       "      <td>0.0</td>\n",
       "      <td>0.0</td>\n",
       "      <td>5.0</td>\n",
       "      <td>12.0</td>\n",
       "      <td>16.0</td>\n",
       "      <td>12.0</td>\n",
       "      <td>0.0</td>\n",
       "      <td>0.0</td>\n",
       "      <td>9</td>\n",
       "    </tr>\n",
       "    <tr>\n",
       "      <th>1796</th>\n",
       "      <td>0.0</td>\n",
       "      <td>0.0</td>\n",
       "      <td>10.0</td>\n",
       "      <td>14.0</td>\n",
       "      <td>8.0</td>\n",
       "      <td>1.0</td>\n",
       "      <td>0.0</td>\n",
       "      <td>0.0</td>\n",
       "      <td>0.0</td>\n",
       "      <td>2.0</td>\n",
       "      <td>...</td>\n",
       "      <td>0.0</td>\n",
       "      <td>0.0</td>\n",
       "      <td>1.0</td>\n",
       "      <td>8.0</td>\n",
       "      <td>12.0</td>\n",
       "      <td>14.0</td>\n",
       "      <td>12.0</td>\n",
       "      <td>1.0</td>\n",
       "      <td>0.0</td>\n",
       "      <td>8</td>\n",
       "    </tr>\n",
       "  </tbody>\n",
       "</table>\n",
       "<p>1797 rows × 65 columns</p>\n",
       "</div>"
      ],
      "text/plain": [
       "      pixel_0_0  pixel_0_1  pixel_0_2  pixel_0_3  pixel_0_4  pixel_0_5  \\\n",
       "0           0.0        0.0        5.0       13.0        9.0        1.0   \n",
       "1           0.0        0.0        0.0       12.0       13.0        5.0   \n",
       "2           0.0        0.0        0.0        4.0       15.0       12.0   \n",
       "3           0.0        0.0        7.0       15.0       13.0        1.0   \n",
       "4           0.0        0.0        0.0        1.0       11.0        0.0   \n",
       "...         ...        ...        ...        ...        ...        ...   \n",
       "1792        0.0        0.0        4.0       10.0       13.0        6.0   \n",
       "1793        0.0        0.0        6.0       16.0       13.0       11.0   \n",
       "1794        0.0        0.0        1.0       11.0       15.0        1.0   \n",
       "1795        0.0        0.0        2.0       10.0        7.0        0.0   \n",
       "1796        0.0        0.0       10.0       14.0        8.0        1.0   \n",
       "\n",
       "      pixel_0_6  pixel_0_7  pixel_1_0  pixel_1_1  ...  pixel_6_7  pixel_7_0  \\\n",
       "0           0.0        0.0        0.0        0.0  ...        0.0        0.0   \n",
       "1           0.0        0.0        0.0        0.0  ...        0.0        0.0   \n",
       "2           0.0        0.0        0.0        0.0  ...        0.0        0.0   \n",
       "3           0.0        0.0        0.0        8.0  ...        0.0        0.0   \n",
       "4           0.0        0.0        0.0        0.0  ...        0.0        0.0   \n",
       "...         ...        ...        ...        ...  ...        ...        ...   \n",
       "1792        0.0        0.0        0.0        1.0  ...        0.0        0.0   \n",
       "1793        1.0        0.0        0.0        0.0  ...        0.0        0.0   \n",
       "1794        0.0        0.0        0.0        0.0  ...        0.0        0.0   \n",
       "1795        0.0        0.0        0.0        0.0  ...        0.0        0.0   \n",
       "1796        0.0        0.0        0.0        2.0  ...        0.0        0.0   \n",
       "\n",
       "      pixel_7_1  pixel_7_2  pixel_7_3  pixel_7_4  pixel_7_5  pixel_7_6  \\\n",
       "0           0.0        6.0       13.0       10.0        0.0        0.0   \n",
       "1           0.0        0.0       11.0       16.0       10.0        0.0   \n",
       "2           0.0        0.0        3.0       11.0       16.0        9.0   \n",
       "3           0.0        7.0       13.0       13.0        9.0        0.0   \n",
       "4           0.0        0.0        2.0       16.0        4.0        0.0   \n",
       "...         ...        ...        ...        ...        ...        ...   \n",
       "1792        0.0        2.0       14.0       15.0        9.0        0.0   \n",
       "1793        0.0        6.0       16.0       14.0        6.0        0.0   \n",
       "1794        0.0        2.0        9.0       13.0        6.0        0.0   \n",
       "1795        0.0        5.0       12.0       16.0       12.0        0.0   \n",
       "1796        1.0        8.0       12.0       14.0       12.0        1.0   \n",
       "\n",
       "      pixel_7_7  target_number  \n",
       "0           0.0              0  \n",
       "1           0.0              1  \n",
       "2           0.0              2  \n",
       "3           0.0              3  \n",
       "4           0.0              4  \n",
       "...         ...            ...  \n",
       "1792        0.0              9  \n",
       "1793        0.0              0  \n",
       "1794        0.0              8  \n",
       "1795        0.0              9  \n",
       "1796        0.0              8  \n",
       "\n",
       "[1797 rows x 65 columns]"
      ]
     },
     "execution_count": 3,
     "metadata": {},
     "output_type": "execute_result"
    }
   ],
   "source": [
    "## Create a variable which will transform the numpy array 'images' \n",
    "## into a Pandas Dataframe using the 'feature_names' as column names\n",
    "images = pd.DataFrame(image_data['data'],columns = image_data['feature_names'])\n",
    "\n",
    "## Add the target column to the end of the Dataframe\n",
    "images = pd.concat([images,pd.DataFrame(image_data['target'])],axis=1)\n",
    "images = images.rename(columns={images.columns[-1]:'target_number'})\n",
    "images"
   ]
  },
  {
   "cell_type": "markdown",
   "id": "2f168838",
   "metadata": {},
   "source": [
    "#### Visualizing our first digit"
   ]
  },
  {
   "cell_type": "code",
   "execution_count": 4,
   "id": "14ac69a3",
   "metadata": {
    "scrolled": true
   },
   "outputs": [
    {
     "data": {
      "image/png": "[encoded data removed]",
      "text/plain": [
       "<Figure size 432x288 with 1 Axes>"
      ]
     },
     "metadata": {
      "needs_background": "light"
     },
     "output_type": "display_data"
    }
   ],
   "source": [
    "## First row in dataframe\n",
    "first_image = images.iloc[0].drop('target_number')\n",
    "np_image = first_image.values.reshape(8,8)\n",
    "\n",
    "plt.imshow(np_image, cmap='gray_r')\n",
    "plt.show()"
   ]
  },
  {
   "cell_type": "markdown",
   "id": "cc90d7ff",
   "metadata": {},
   "source": [
    "Visually we can see that this digit resembles closest to 0, which we can verify since our target column says it is 0."
   ]
  },
  {
   "cell_type": "markdown",
   "id": "79254660",
   "metadata": {},
   "source": [
    "#### Some more visualizations\n",
    "Let's view some more numbers to get a feel of the dataset"
   ]
  },
  {
   "cell_type": "code",
   "execution_count": 5,
   "id": "0b3bb2d0",
   "metadata": {},
   "outputs": [
    {
     "data": {
      "image/png": "[encoded data removed]",
      "text/plain": [
       "<Figure size 720x360 with 8 Axes>"
      ]
     },
     "metadata": {
      "needs_background": "light"
     },
     "output_type": "display_data"
    }
   ],
   "source": [
    "plt.figure(figsize=(10,5))\n",
    "plt.subplot(2,4,1)\n",
    "plt.imshow(images.iloc[1].drop('target_number').values.reshape(8,8),cmap='gray_r')\n",
    "\n",
    "plt.subplot(2,4,2)\n",
    "plt.imshow(images.iloc[100].drop('target_number').values.reshape(8,8),cmap='gray_r')\n",
    "\n",
    "plt.subplot(2,4,3)\n",
    "plt.imshow(images.iloc[200].drop('target_number').values.reshape(8,8),cmap='gray_r')\n",
    "\n",
    "plt.subplot(2,4,4)\n",
    "plt.imshow(images.iloc[300].drop('target_number').values.reshape(8,8),cmap='gray_r')\n",
    "\n",
    "plt.subplot(2,4,5)\n",
    "plt.imshow(images.iloc[1000].drop('target_number').values.reshape(8,8),cmap='gray_r')\n",
    "\n",
    "plt.subplot(2,4,6)\n",
    "plt.imshow(images.iloc[1100].drop('target_number').values.reshape(8,8),cmap='gray_r')\n",
    "\n",
    "plt.subplot(2,4,7)\n",
    "plt.imshow(images.iloc[1200].drop('target_number').values.reshape(8,8),cmap='gray_r')\n",
    "\n",
    "plt.subplot(2,4,8)\n",
    "plt.imshow(images.iloc[1300].drop('target_number').values.reshape(8,8),cmap='gray_r')\n",
    "\n",
    "plt.show()"
   ]
  },
  {
   "cell_type": "markdown",
   "id": "3918eed4",
   "metadata": {},
   "source": [
    "## K-Nearest Neighbour Cross Validation"
   ]
  },
  {
   "cell_type": "code",
   "execution_count": 6,
   "id": "1b95d144",
   "metadata": {},
   "outputs": [],
   "source": [
    "## Randomize Images Dataset\n",
    "images = images.sample(frac=1, random_state=1)"
   ]
  },
  {
   "cell_type": "code",
   "execution_count": 7,
   "id": "b774d7a8",
   "metadata": {},
   "outputs": [],
   "source": [
    "from sklearn.neighbors import KNeighborsClassifier\n",
    "from sklearn.model_selection import cross_val_score, KFold\n",
    "\n",
    "## Create a function which performs K-fold cross validation and returns the average accuracy for knn model\n",
    "def cross_validate_knn(df, features, k, n):\n",
    "    kf = KFold(n_splits=k, shuffle=True, random_state=1)\n",
    "    \n",
    "    model = KNeighborsClassifier(n_neighbors=n)\n",
    "    accuracy = cross_val_score(model,df[features],df['target_number'],scoring='accuracy',cv=kf)\n",
    "    \n",
    "    return np.mean(accuracy)"
   ]
  },
  {
   "cell_type": "code",
   "execution_count": 8,
   "id": "c475f6eb",
   "metadata": {},
   "outputs": [],
   "source": [
    "## Features are every column except target_number\n",
    "features = list(images.columns)\n",
    "del features[-1]"
   ]
  },
  {
   "cell_type": "code",
   "execution_count": 9,
   "id": "defb3e6a",
   "metadata": {},
   "outputs": [],
   "source": [
    "from mpl_toolkits import mplot3d\n",
    "\n",
    "## Check accuracy score with different k and n values up until at least 20\n",
    "kvals = []\n",
    "nvals = []\n",
    "cross_val_acc = []\n",
    "\n",
    "for k in range(2,21):\n",
    "    for n in range(1,21):\n",
    "        kvals.append(k)\n",
    "        nvals.append(n)\n",
    "        cross_val_acc.append(cross_validate_knn(images, features, k, n))"
   ]
  },
  {
   "cell_type": "code",
   "execution_count": 10,
   "id": "70bb8ad3",
   "metadata": {
    "scrolled": true
   },
   "outputs": [
    {
     "data": {
      "image/png": "[encoded data removed]",
      "text/plain": [
       "<Figure size 1224x720 with 1 Axes>"
      ]
     },
     "metadata": {
      "needs_background": "light"
     },
     "output_type": "display_data"
    }
   ],
   "source": [
    "max_cross_val = max(cross_val_acc)\n",
    "\n",
    "## Create 3D plot to find the relation of these three values\n",
    "fig = plt.figure(figsize=(17,10))\n",
    "ax = plt.axes(projection='3d')\n",
    "colour = ['r' if value == max_cross_val else 'black' for value in cross_val_acc]\n",
    "ax.scatter3D(kvals,nvals,cross_val_acc,c=colour)\n",
    "\n",
    "ax.set_xlabel('K Values for K-Fold')\n",
    "ax.set_ylabel('Number of neighbors')\n",
    "ax.set_zlabel('Average Accuracy Score')\n",
    "ax.set_title('What Combination of K and N has best Accuracy')\n",
    "\n",
    "plt.show()"
   ]
  },
  {
   "cell_type": "code",
   "execution_count": 11,
   "id": "1f3d8bf6",
   "metadata": {},
   "outputs": [
    {
     "data": {
      "text/plain": [
       "{'n_val': 1, 'k_val': 6, 'accuracy_score': 0.9899851356373097}"
      ]
     },
     "execution_count": 11,
     "metadata": {},
     "output_type": "execute_result"
    }
   ],
   "source": [
    "best_values = dict()\n",
    "best_values['n_val'] = nvals[cross_val_acc.index(max(cross_val_acc))]\n",
    "best_values['k_val'] = kvals[cross_val_acc.index(max(cross_val_acc))]\n",
    "best_values['accuracy_score'] = cross_val_acc[cross_val_acc.index(max(cross_val_acc))]\n",
    "\n",
    "best_values"
   ]
  },
  {
   "cell_type": "markdown",
   "id": "abafbeb8",
   "metadata": {},
   "source": [
    "As we can see, when using K-Nearest Neighbours our analysis tells us that having 1 neighbour, paired with 6-fold cross validation yields an accuracy score of around 99%. This being limited to K being in the range 2-20 and N being in the range 1-20. "
   ]
  },
  {
   "cell_type": "markdown",
   "id": "6470684c",
   "metadata": {},
   "source": [
    "## Neural Network"
   ]
  },
  {
   "cell_type": "code",
   "execution_count": 12,
   "id": "2a36d975",
   "metadata": {},
   "outputs": [],
   "source": [
    "from sklearn.neural_network import MLPClassifier"
   ]
  },
  {
   "cell_type": "code",
   "execution_count": 13,
   "id": "20e295d0",
   "metadata": {},
   "outputs": [],
   "source": [
    "## Create a function which performs K-fold cross validation and returns the average accuracy for neural network model\n",
    "## This function can test the accuracy of 1, 2, or 3 hidden layers\n",
    "## Note that each of the hidden layers will have the same amount of neurons\n",
    "def cross_validate_nn(df, features, k, activation_type, neurons, hidden_layers=1):\n",
    "    kf = KFold(n_splits=k, shuffle=True, random_state=1)\n",
    "    if hidden_layers==1:   \n",
    "        model = MLPClassifier(hidden_layer_sizes=(neurons,),activation=activation_type)\n",
    "    elif hidden_layers==2:\n",
    "        model = MLPClassifier(hidden_layer_sizes=(neurons,neurons),activation=activation_type)\n",
    "    elif hidden_layers==3:\n",
    "        model = MLPClassifier(hidden_layer_sizes=(neurons,neurons,neurons),activation=activation_type)\n",
    "\n",
    "    accuracy = cross_val_score(model,df[features],df['target_number'],scoring='accuracy',cv=kf)\n",
    "    \n",
    "    return np.mean(accuracy)"
   ]
  },
  {
   "cell_type": "code",
   "execution_count": 14,
   "id": "fd00a183",
   "metadata": {},
   "outputs": [],
   "source": [
    "import warnings\n",
    "warnings.filterwarnings('ignore')"
   ]
  },
  {
   "cell_type": "markdown",
   "id": "e907048c",
   "metadata": {},
   "source": [
    "Here are the parameters we will use and check the accuracies for them:\n",
    "\n",
    "One Hidden Layer with:\n",
    "- 8 Neurons\n",
    "- 32 Neurons\n",
    "- 128 Neurons\n",
    "\n",
    "Two Hidden Layers with:\n",
    "- 8 Neurons in each Layer\n",
    "- 32 Neurons in each Layer\n",
    "- 128 Neurons in each Layer\n",
    "\n",
    "Three Hidden Layers with:\n",
    "- 8 Neurons in each Layer\n",
    "- 32 Neurons in each Layer\n",
    "- 128 Neurons in each Layer\n",
    "\n",
    "We will also test all of these with different activation functions."
   ]
  },
  {
   "cell_type": "code",
   "execution_count": 15,
   "id": "bd46478d",
   "metadata": {},
   "outputs": [],
   "source": [
    "## Store each k value, number of neurons, activation function, number of hidden layers, and accuracy score in lists\n",
    "## We can use this for graphing and calculating which values yield the largest accuracy\n",
    "kfold_l = []\n",
    "neurons_l = []\n",
    "activation_functions_l = []\n",
    "hidden_layers_l = []\n",
    "accuracy_score_l = []\n",
    "\n",
    "for k in range(2,11):\n",
    "    for n in [8,32,128]:\n",
    "        for a in ['identity','logistic','tanh','relu']:\n",
    "            for h in [1,2,3]:\n",
    "                kfold_l.append(k)\n",
    "                neurons_l.append(n)\n",
    "                activation_functions_l.append(a)\n",
    "                hidden_layers_l.append(h)\n",
    "                accuracy_score_l.append(cross_validate_nn(images, features, k, a, n, h))"
   ]
  },
  {
   "cell_type": "markdown",
   "id": "99060e4c",
   "metadata": {},
   "source": [
    "#### Graphing accuracies\n",
    "\n",
    "X-Axis: K-fold\n",
    "\n",
    "Y-Axis: Number of Neurons\n",
    "\n",
    "Z-Axis: Accuracies"
   ]
  },
  {
   "cell_type": "code",
   "execution_count": 16,
   "id": "d8b3709f",
   "metadata": {},
   "outputs": [],
   "source": [
    "## Store results in a dataframes\n",
    "neuron_network_results = pd.DataFrame({'KFold':kfold_l,\n",
    "                                      'Number of Neurons':neurons_l,\n",
    "                                      'Hidden Layers':hidden_layers_l,\n",
    "                                      'Activation Function':activation_functions_l,\n",
    "                                      'Accuracy Score':accuracy_score_l})\n",
    "\n",
    "HL1 = neuron_network_results[neuron_network_results['Hidden Layers']==1]\n",
    "HL2 = neuron_network_results[neuron_network_results['Hidden Layers']==2]\n",
    "HL3 = neuron_network_results[neuron_network_results['Hidden Layers']==3]"
   ]
  },
  {
   "cell_type": "code",
   "execution_count": 17,
   "id": "5213024f",
   "metadata": {},
   "outputs": [
    {
     "data": {
      "image/png": "[encoded data removed]",
      "text/plain": [
       "<Figure size 1224x720 with 3 Axes>"
      ]
     },
     "metadata": {
      "needs_background": "light"
     },
     "output_type": "display_data"
    }
   ],
   "source": [
    "fig = plt.figure(figsize=(17,10))\n",
    "\n",
    "ax1 = fig.add_subplot(131, projection='3d')\n",
    "colour = ['b' if value == 'identity' else 'g' if value=='logistic' else 'r' if value=='tanh' else 'y'for value in HL1['Activation Function']]\n",
    "ax1.scatter3D(HL1['KFold'],HL1['Number of Neurons'],HL1['Accuracy Score'],c=colour)\n",
    "ax1.set_title('Accuracies with 1 Hidden Layer')\n",
    "ax1.set_xlabel('K-Fold')\n",
    "ax1.set_ylabel('Neurons')\n",
    "ax1.set_zlabel('Accuracy')\n",
    "\n",
    "ax2 = fig.add_subplot(132, projection='3d')\n",
    "colour = ['b' if value == 'identity' else 'g' if value=='logistic' else 'r' if value=='tanh' else 'y'for value in HL2['Activation Function']]\n",
    "ax2.scatter3D(HL2['KFold'],HL2['Number of Neurons'],HL2['Accuracy Score'],c=colour)\n",
    "ax2.set_title('Accuracies with 2 Hidden Layers')\n",
    "ax2.set_xlabel('K-Fold')\n",
    "ax2.set_ylabel('Neurons')\n",
    "ax2.set_zlabel('Accuracy')\n",
    "\n",
    "ax3 = fig.add_subplot(133, projection='3d')\n",
    "colour = ['b' if value == 'identity' else 'g' if value=='logistic' else 'r' if value=='tanh' else 'y'for value in HL3['Activation Function']]\n",
    "ax3.scatter3D(HL3['KFold'],HL3['Number of Neurons'],HL3['Accuracy Score'],c=colour)\n",
    "ax3.set_title('Accuracies with 3 Hidden Layers')\n",
    "ax3.set_xlabel('K-Fold')\n",
    "ax3.set_ylabel('Neurons')\n",
    "ax3.set_zlabel('Accuracy')\n",
    "\n",
    "plt.show()"
   ]
  },
  {
   "cell_type": "markdown",
   "id": "3de22f5d",
   "metadata": {},
   "source": [
    "One significant feature we can notice is that with 2 or 3 hidden layers, a lower neurons mixed with a logistic function in the neural network yields lower accuracies."
   ]
  },
  {
   "cell_type": "markdown",
   "id": "e6c55807",
   "metadata": {},
   "source": [
    "#### Row with Maximum Accuracy with 1 Hidden Layer"
   ]
  },
  {
   "cell_type": "code",
   "execution_count": 18,
   "id": "0f042dfa",
   "metadata": {
    "scrolled": true
   },
   "outputs": [
    {
     "data": {
      "text/html": [
       "<div>\n",
       "<style scoped>\n",
       "    .dataframe tbody tr th:only-of-type {\n",
       "        vertical-align: middle;\n",
       "    }\n",
       "\n",
       "    .dataframe tbody tr th {\n",
       "        vertical-align: top;\n",
       "    }\n",
       "\n",
       "    .dataframe thead th {\n",
       "        text-align: right;\n",
       "    }\n",
       "</style>\n",
       "<table border=\"1\" class=\"dataframe\">\n",
       "  <thead>\n",
       "    <tr style=\"text-align: right;\">\n",
       "      <th></th>\n",
       "      <th>KFold</th>\n",
       "      <th>Number of Neurons</th>\n",
       "      <th>Hidden Layers</th>\n",
       "      <th>Activation Function</th>\n",
       "      <th>Accuracy Score</th>\n",
       "    </tr>\n",
       "  </thead>\n",
       "  <tbody>\n",
       "    <tr>\n",
       "      <th>243</th>\n",
       "      <td>8</td>\n",
       "      <td>128</td>\n",
       "      <td>1</td>\n",
       "      <td>logistic</td>\n",
       "      <td>0.983862</td>\n",
       "    </tr>\n",
       "  </tbody>\n",
       "</table>\n",
       "</div>"
      ],
      "text/plain": [
       "     KFold  Number of Neurons  Hidden Layers Activation Function  \\\n",
       "243      8                128              1            logistic   \n",
       "\n",
       "     Accuracy Score  \n",
       "243        0.983862  "
      ]
     },
     "execution_count": 18,
     "metadata": {},
     "output_type": "execute_result"
    }
   ],
   "source": [
    "HL1[HL1['Accuracy Score'] == HL1['Accuracy Score'].max()]"
   ]
  },
  {
   "cell_type": "markdown",
   "id": "d1633a3f",
   "metadata": {},
   "source": [
    "#### Row with Maximum Accuracy with 2 Hidden Layers"
   ]
  },
  {
   "cell_type": "code",
   "execution_count": 19,
   "id": "41b6e03a",
   "metadata": {},
   "outputs": [
    {
     "data": {
      "text/html": [
       "<div>\n",
       "<style scoped>\n",
       "    .dataframe tbody tr th:only-of-type {\n",
       "        vertical-align: middle;\n",
       "    }\n",
       "\n",
       "    .dataframe tbody tr th {\n",
       "        vertical-align: top;\n",
       "    }\n",
       "\n",
       "    .dataframe thead th {\n",
       "        text-align: right;\n",
       "    }\n",
       "</style>\n",
       "<table border=\"1\" class=\"dataframe\">\n",
       "  <thead>\n",
       "    <tr style=\"text-align: right;\">\n",
       "      <th></th>\n",
       "      <th>KFold</th>\n",
       "      <th>Number of Neurons</th>\n",
       "      <th>Hidden Layers</th>\n",
       "      <th>Activation Function</th>\n",
       "      <th>Accuracy Score</th>\n",
       "    </tr>\n",
       "  </thead>\n",
       "  <tbody>\n",
       "    <tr>\n",
       "      <th>322</th>\n",
       "      <td>10</td>\n",
       "      <td>128</td>\n",
       "      <td>2</td>\n",
       "      <td>relu</td>\n",
       "      <td>0.983867</td>\n",
       "    </tr>\n",
       "  </tbody>\n",
       "</table>\n",
       "</div>"
      ],
      "text/plain": [
       "     KFold  Number of Neurons  Hidden Layers Activation Function  \\\n",
       "322     10                128              2                relu   \n",
       "\n",
       "     Accuracy Score  \n",
       "322        0.983867  "
      ]
     },
     "execution_count": 19,
     "metadata": {},
     "output_type": "execute_result"
    }
   ],
   "source": [
    "HL2[HL2['Accuracy Score'] == HL2['Accuracy Score'].max()]"
   ]
  },
  {
   "cell_type": "markdown",
   "id": "bc4bea66",
   "metadata": {},
   "source": [
    "#### Row with Maximum Accuracy with 3 Hidden Layers"
   ]
  },
  {
   "cell_type": "code",
   "execution_count": 20,
   "id": "ac8d942b",
   "metadata": {},
   "outputs": [
    {
     "data": {
      "text/html": [
       "<div>\n",
       "<style scoped>\n",
       "    .dataframe tbody tr th:only-of-type {\n",
       "        vertical-align: middle;\n",
       "    }\n",
       "\n",
       "    .dataframe tbody tr th {\n",
       "        vertical-align: top;\n",
       "    }\n",
       "\n",
       "    .dataframe thead th {\n",
       "        text-align: right;\n",
       "    }\n",
       "</style>\n",
       "<table border=\"1\" class=\"dataframe\">\n",
       "  <thead>\n",
       "    <tr style=\"text-align: right;\">\n",
       "      <th></th>\n",
       "      <th>KFold</th>\n",
       "      <th>Number of Neurons</th>\n",
       "      <th>Hidden Layers</th>\n",
       "      <th>Activation Function</th>\n",
       "      <th>Accuracy Score</th>\n",
       "    </tr>\n",
       "  </thead>\n",
       "  <tbody>\n",
       "    <tr>\n",
       "      <th>248</th>\n",
       "      <td>8</td>\n",
       "      <td>128</td>\n",
       "      <td>3</td>\n",
       "      <td>tanh</td>\n",
       "      <td>0.981079</td>\n",
       "    </tr>\n",
       "  </tbody>\n",
       "</table>\n",
       "</div>"
      ],
      "text/plain": [
       "     KFold  Number of Neurons  Hidden Layers Activation Function  \\\n",
       "248      8                128              3                tanh   \n",
       "\n",
       "     Accuracy Score  \n",
       "248        0.981079  "
      ]
     },
     "execution_count": 20,
     "metadata": {},
     "output_type": "execute_result"
    }
   ],
   "source": [
    "HL3[HL3['Accuracy Score'] == HL3['Accuracy Score'].max()]"
   ]
  },
  {
   "cell_type": "markdown",
   "id": "a0a890ee",
   "metadata": {},
   "source": [
    "## Possible Best Model\n",
    "As we can see, our best neural network model given our chosen parameters are 10-fold, 128 neurons, 2 hidden layers, relu function which yields an accuracy score of around 0.984. Even with these parameters, a 6-fold K-Nearest Neighbours model with 1 neighbour has the highest accuracy with a score of around 0.99."
   ]
  },
  {
   "cell_type": "code",
   "execution_count": 21,
   "id": "556256de",
   "metadata": {},
   "outputs": [
    {
     "data": {
      "text/plain": [
       "KNeighborsClassifier(n_neighbors=1)"
      ]
     },
     "execution_count": 21,
     "metadata": {},
     "output_type": "execute_result"
    }
   ],
   "source": [
    "train = images[:1497]\n",
    "test = images[1497:]\n",
    "\n",
    "knn = KNeighborsClassifier(n_neighbors=1)\n",
    "knn.fit(train[features],train['target_number'])"
   ]
  },
  {
   "cell_type": "code",
   "execution_count": 22,
   "id": "43260da1",
   "metadata": {
    "scrolled": true
   },
   "outputs": [],
   "source": [
    "predictions = knn.predict(test[features])"
   ]
  },
  {
   "cell_type": "markdown",
   "id": "4264a82b",
   "metadata": {},
   "source": [
    "#### Dataframe storing the Actual Number and Prediction Values from our model"
   ]
  },
  {
   "cell_type": "code",
   "execution_count": 23,
   "id": "3dca6dd8",
   "metadata": {},
   "outputs": [
    {
     "data": {
      "text/html": [
       "<div>\n",
       "<style scoped>\n",
       "    .dataframe tbody tr th:only-of-type {\n",
       "        vertical-align: middle;\n",
       "    }\n",
       "\n",
       "    .dataframe tbody tr th {\n",
       "        vertical-align: top;\n",
       "    }\n",
       "\n",
       "    .dataframe thead th {\n",
       "        text-align: right;\n",
       "    }\n",
       "</style>\n",
       "<table border=\"1\" class=\"dataframe\">\n",
       "  <thead>\n",
       "    <tr style=\"text-align: right;\">\n",
       "      <th></th>\n",
       "      <th>Number</th>\n",
       "      <th>Prediction</th>\n",
       "      <th>Correct</th>\n",
       "    </tr>\n",
       "  </thead>\n",
       "  <tbody>\n",
       "    <tr>\n",
       "      <th>1366</th>\n",
       "      <td>0</td>\n",
       "      <td>0</td>\n",
       "      <td>1</td>\n",
       "    </tr>\n",
       "    <tr>\n",
       "      <th>1280</th>\n",
       "      <td>8</td>\n",
       "      <td>8</td>\n",
       "      <td>1</td>\n",
       "    </tr>\n",
       "    <tr>\n",
       "      <th>182</th>\n",
       "      <td>7</td>\n",
       "      <td>7</td>\n",
       "      <td>1</td>\n",
       "    </tr>\n",
       "    <tr>\n",
       "      <th>617</th>\n",
       "      <td>0</td>\n",
       "      <td>0</td>\n",
       "      <td>1</td>\n",
       "    </tr>\n",
       "    <tr>\n",
       "      <th>1324</th>\n",
       "      <td>9</td>\n",
       "      <td>9</td>\n",
       "      <td>1</td>\n",
       "    </tr>\n",
       "  </tbody>\n",
       "</table>\n",
       "</div>"
      ],
      "text/plain": [
       "      Number  Prediction  Correct\n",
       "1366       0           0        1\n",
       "1280       8           8        1\n",
       "182        7           7        1\n",
       "617        0           0        1\n",
       "1324       9           9        1"
      ]
     },
     "execution_count": 23,
     "metadata": {},
     "output_type": "execute_result"
    }
   ],
   "source": [
    "accuracy_df = pd.DataFrame({'Number':test['target_number'],'Prediction':predictions})\n",
    "accuracy_df['Correct'] = (accuracy_df['Number']==accuracy_df['Prediction']).astype(int)\n",
    "accuracy_df.head()"
   ]
  },
  {
   "cell_type": "code",
   "execution_count": 24,
   "id": "4bdfcaa9",
   "metadata": {
    "scrolled": true
   },
   "outputs": [
    {
     "data": {
      "text/plain": [
       "1    296\n",
       "0      4\n",
       "Name: Correct, dtype: int64"
      ]
     },
     "execution_count": 24,
     "metadata": {},
     "output_type": "execute_result"
    }
   ],
   "source": [
    "accuracy_df['Correct'].value_counts()"
   ]
  },
  {
   "cell_type": "markdown",
   "id": "91f481a7",
   "metadata": {},
   "source": [
    "As we can see, our model predicted 296 numbers out of 300 correct in our test set."
   ]
  },
  {
   "cell_type": "markdown",
   "id": "84008f7e",
   "metadata": {},
   "source": [
    "#### What numbers are wrong?"
   ]
  },
  {
   "cell_type": "code",
   "execution_count": 25,
   "id": "e92b20d4",
   "metadata": {},
   "outputs": [
    {
     "data": {
      "text/html": [
       "<div>\n",
       "<style scoped>\n",
       "    .dataframe tbody tr th:only-of-type {\n",
       "        vertical-align: middle;\n",
       "    }\n",
       "\n",
       "    .dataframe tbody tr th {\n",
       "        vertical-align: top;\n",
       "    }\n",
       "\n",
       "    .dataframe thead th {\n",
       "        text-align: right;\n",
       "    }\n",
       "</style>\n",
       "<table border=\"1\" class=\"dataframe\">\n",
       "  <thead>\n",
       "    <tr style=\"text-align: right;\">\n",
       "      <th></th>\n",
       "      <th>Number</th>\n",
       "      <th>Prediction</th>\n",
       "      <th>Correct</th>\n",
       "    </tr>\n",
       "  </thead>\n",
       "  <tbody>\n",
       "    <tr>\n",
       "      <th>1553</th>\n",
       "      <td>8</td>\n",
       "      <td>1</td>\n",
       "      <td>0</td>\n",
       "    </tr>\n",
       "    <tr>\n",
       "      <th>1571</th>\n",
       "      <td>8</td>\n",
       "      <td>1</td>\n",
       "      <td>0</td>\n",
       "    </tr>\n",
       "    <tr>\n",
       "      <th>170</th>\n",
       "      <td>8</td>\n",
       "      <td>1</td>\n",
       "      <td>0</td>\n",
       "    </tr>\n",
       "    <tr>\n",
       "      <th>129</th>\n",
       "      <td>8</td>\n",
       "      <td>1</td>\n",
       "      <td>0</td>\n",
       "    </tr>\n",
       "  </tbody>\n",
       "</table>\n",
       "</div>"
      ],
      "text/plain": [
       "      Number  Prediction  Correct\n",
       "1553       8           1        0\n",
       "1571       8           1        0\n",
       "170        8           1        0\n",
       "129        8           1        0"
      ]
     },
     "execution_count": 25,
     "metadata": {},
     "output_type": "execute_result"
    }
   ],
   "source": [
    "accuracy_df[accuracy_df['Correct'] == 0]"
   ]
  },
  {
   "cell_type": "markdown",
   "id": "f5c5a203",
   "metadata": {},
   "source": [
    "As we can see, our model has a harder time predicting the number 8, where it may mistake it for a 1."
   ]
  },
  {
   "cell_type": "markdown",
   "id": "625d4f4d",
   "metadata": {},
   "source": [
    "#### How many 8's are there in the Test Set?"
   ]
  },
  {
   "cell_type": "code",
   "execution_count": 26,
   "id": "75e13b6b",
   "metadata": {},
   "outputs": [
    {
     "data": {
      "text/plain": [
       "34"
      ]
     },
     "execution_count": 26,
     "metadata": {},
     "output_type": "execute_result"
    }
   ],
   "source": [
    "len(accuracy_df[accuracy_df['Number'] == 8])"
   ]
  },
  {
   "cell_type": "markdown",
   "id": "a91c5be7",
   "metadata": {},
   "source": [
    "There are 34 number 8's in our test set, meaning that our model predicted the number 8 wrong 4/34 times or about 11.7% of the number 8 predictions were wrong. This is a small enough value to which we don't have to worry about anything."
   ]
  },
  {
   "cell_type": "markdown",
   "id": "cc260fb8",
   "metadata": {},
   "source": [
    "## Testing on own data\n",
    "We should also see the accuracy of the model on digits which I have written myself. If it performs poorly, we can try out the best neural network model."
   ]
  },
  {
   "cell_type": "code",
   "execution_count": 31,
   "id": "6f9d1a6f",
   "metadata": {},
   "outputs": [],
   "source": [
    "import cv2\n",
    "## Function which takes a image as input, resizes to 8x8, grayscales, and into a 1D array\n",
    "def img_transform(img_path):\n",
    "    ## Grayscaling\n",
    "    img_path = cv2.imread(img_path, cv2.IMREAD_GRAYSCALE)\n",
    "    ## Invert bitmaps to increase contrast between pixels\n",
    "    img_path = cv2.bitwise_not(img_path)\n",
    "    ## resize to 8x8\n",
    "    img_path = cv2.resize(img_path,(8,8))\n",
    "    ## Flatten into 1D array\n",
    "    img_path = img_path.flatten().reshape(1,-1)\n",
    "    return img_path"
   ]
  },
  {
   "cell_type": "markdown",
   "id": "f24cf3c1",
   "metadata": {},
   "source": [
    "I have handwritten some numbers on paint.net which we will use to verify if our model works. First let's view all the numbers"
   ]
  },
  {
   "cell_type": "code",
   "execution_count": 32,
   "id": "2ced5830",
   "metadata": {},
   "outputs": [
    {
     "data": {
      "image/png": "[encoded data removed]",
      "text/plain": [
       "<Figure size 720x360 with 10 Axes>"
      ]
     },
     "metadata": {
      "needs_background": "light"
     },
     "output_type": "display_data"
    }
   ],
   "source": [
    "pngs = ['zero.png','one.png','two.png','three.png','four.png','five.png','six.png','seven.png','eight.png','nine.png']\n",
    "numbers = [1,2,3,4,5,6,7,8,9,10]\n",
    "\n",
    "plt.figure(figsize=(10, 5))\n",
    "for png,number in zip(pngs,numbers):\n",
    "    plt.subplot(2,5,number)\n",
    "    plt.imshow(pd.Series(img_transform(png)[0]).values.reshape(8,8), cmap='gray')\n",
    "plt.show()"
   ]
  },
  {
   "cell_type": "code",
   "execution_count": 33,
   "id": "f5ed79ec",
   "metadata": {},
   "outputs": [
    {
     "name": "stdout",
     "output_type": "stream",
     "text": [
      "[0]\n",
      "[1]\n",
      "[2]\n",
      "[3]\n",
      "[1]\n",
      "[5]\n",
      "[5]\n",
      "[7]\n",
      "[8]\n",
      "[1]\n"
     ]
    }
   ],
   "source": [
    "## Check if our KNN model works with my hand-writing\n",
    "for png in pngs:\n",
    "    print(knn.predict(img_transform(png)))"
   ]
  },
  {
   "cell_type": "markdown",
   "id": "5a58458e",
   "metadata": {},
   "source": [
    "Our KNN model predicts the handwritten numbers 7/10 times, which from what we have seen, is lower than the accuracy score found on the test set. Let's see how our best neural network model classifies these numbers."
   ]
  },
  {
   "cell_type": "markdown",
   "id": "1cb438ba",
   "metadata": {},
   "source": [
    "## Neural Network Model\n",
    "We will use the model with the highest accuracy that we have tested. 128 neurons, 2 hidden layers and relu function."
   ]
  },
  {
   "cell_type": "code",
   "execution_count": 101,
   "id": "69fa26d0",
   "metadata": {},
   "outputs": [
    {
     "data": {
      "text/plain": [
       "MLPClassifier(hidden_layer_sizes=(128, 128))"
      ]
     },
     "execution_count": 101,
     "metadata": {},
     "output_type": "execute_result"
    }
   ],
   "source": [
    "nn_classifier = MLPClassifier(hidden_layer_sizes=(128,128),activation='relu')\n",
    "nn_classifier.fit(train[features],train['target_number'])"
   ]
  },
  {
   "cell_type": "code",
   "execution_count": 103,
   "id": "bdaa0e7b",
   "metadata": {},
   "outputs": [],
   "source": [
    "predictions_nn = nn_classifier.predict(test[features])"
   ]
  },
  {
   "cell_type": "markdown",
   "id": "dc292ea6",
   "metadata": {},
   "source": [
    "#### Dataframe storing the Actual Number and Prediction Values from our model"
   ]
  },
  {
   "cell_type": "code",
   "execution_count": 104,
   "id": "317e7bae",
   "metadata": {},
   "outputs": [
    {
     "data": {
      "text/html": [
       "<div>\n",
       "<style scoped>\n",
       "    .dataframe tbody tr th:only-of-type {\n",
       "        vertical-align: middle;\n",
       "    }\n",
       "\n",
       "    .dataframe tbody tr th {\n",
       "        vertical-align: top;\n",
       "    }\n",
       "\n",
       "    .dataframe thead th {\n",
       "        text-align: right;\n",
       "    }\n",
       "</style>\n",
       "<table border=\"1\" class=\"dataframe\">\n",
       "  <thead>\n",
       "    <tr style=\"text-align: right;\">\n",
       "      <th></th>\n",
       "      <th>Number</th>\n",
       "      <th>Prediction</th>\n",
       "      <th>Correct</th>\n",
       "    </tr>\n",
       "  </thead>\n",
       "  <tbody>\n",
       "    <tr>\n",
       "      <th>1366</th>\n",
       "      <td>0</td>\n",
       "      <td>0</td>\n",
       "      <td>1</td>\n",
       "    </tr>\n",
       "    <tr>\n",
       "      <th>1280</th>\n",
       "      <td>8</td>\n",
       "      <td>8</td>\n",
       "      <td>1</td>\n",
       "    </tr>\n",
       "    <tr>\n",
       "      <th>182</th>\n",
       "      <td>7</td>\n",
       "      <td>7</td>\n",
       "      <td>1</td>\n",
       "    </tr>\n",
       "    <tr>\n",
       "      <th>617</th>\n",
       "      <td>0</td>\n",
       "      <td>0</td>\n",
       "      <td>1</td>\n",
       "    </tr>\n",
       "    <tr>\n",
       "      <th>1324</th>\n",
       "      <td>9</td>\n",
       "      <td>9</td>\n",
       "      <td>1</td>\n",
       "    </tr>\n",
       "  </tbody>\n",
       "</table>\n",
       "</div>"
      ],
      "text/plain": [
       "      Number  Prediction  Correct\n",
       "1366       0           0        1\n",
       "1280       8           8        1\n",
       "182        7           7        1\n",
       "617        0           0        1\n",
       "1324       9           9        1"
      ]
     },
     "execution_count": 104,
     "metadata": {},
     "output_type": "execute_result"
    }
   ],
   "source": [
    "accuracy_df_nn = pd.DataFrame({'Number':test['target_number'],'Prediction':predictions_nn})\n",
    "accuracy_df_nn['Correct'] = (accuracy_df_nn['Number']==accuracy_df_nn['Prediction']).astype(int)\n",
    "accuracy_df_nn.head()"
   ]
  },
  {
   "cell_type": "code",
   "execution_count": 105,
   "id": "9a181b0a",
   "metadata": {},
   "outputs": [
    {
     "data": {
      "text/plain": [
       "1    291\n",
       "0      9\n",
       "Name: Correct, dtype: int64"
      ]
     },
     "execution_count": 105,
     "metadata": {},
     "output_type": "execute_result"
    }
   ],
   "source": [
    "accuracy_df_nn['Correct'].value_counts()"
   ]
  },
  {
   "cell_type": "markdown",
   "id": "4cb5462e",
   "metadata": {},
   "source": [
    "#### What numbers are wrong?"
   ]
  },
  {
   "cell_type": "code",
   "execution_count": 106,
   "id": "13a7bef6",
   "metadata": {},
   "outputs": [
    {
     "data": {
      "text/html": [
       "<div>\n",
       "<style scoped>\n",
       "    .dataframe tbody tr th:only-of-type {\n",
       "        vertical-align: middle;\n",
       "    }\n",
       "\n",
       "    .dataframe tbody tr th {\n",
       "        vertical-align: top;\n",
       "    }\n",
       "\n",
       "    .dataframe thead th {\n",
       "        text-align: right;\n",
       "    }\n",
       "</style>\n",
       "<table border=\"1\" class=\"dataframe\">\n",
       "  <thead>\n",
       "    <tr style=\"text-align: right;\">\n",
       "      <th></th>\n",
       "      <th>Number</th>\n",
       "      <th>Prediction</th>\n",
       "      <th>Correct</th>\n",
       "    </tr>\n",
       "  </thead>\n",
       "  <tbody>\n",
       "    <tr>\n",
       "      <th>1553</th>\n",
       "      <td>8</td>\n",
       "      <td>1</td>\n",
       "      <td>0</td>\n",
       "    </tr>\n",
       "    <tr>\n",
       "      <th>1571</th>\n",
       "      <td>8</td>\n",
       "      <td>9</td>\n",
       "      <td>0</td>\n",
       "    </tr>\n",
       "    <tr>\n",
       "      <th>1581</th>\n",
       "      <td>8</td>\n",
       "      <td>4</td>\n",
       "      <td>0</td>\n",
       "    </tr>\n",
       "    <tr>\n",
       "      <th>1729</th>\n",
       "      <td>3</td>\n",
       "      <td>5</td>\n",
       "      <td>0</td>\n",
       "    </tr>\n",
       "    <tr>\n",
       "      <th>77</th>\n",
       "      <td>2</td>\n",
       "      <td>1</td>\n",
       "      <td>0</td>\n",
       "    </tr>\n",
       "    <tr>\n",
       "      <th>792</th>\n",
       "      <td>6</td>\n",
       "      <td>0</td>\n",
       "      <td>0</td>\n",
       "    </tr>\n",
       "    <tr>\n",
       "      <th>1095</th>\n",
       "      <td>4</td>\n",
       "      <td>9</td>\n",
       "      <td>0</td>\n",
       "    </tr>\n",
       "    <tr>\n",
       "      <th>129</th>\n",
       "      <td>8</td>\n",
       "      <td>1</td>\n",
       "      <td>0</td>\n",
       "    </tr>\n",
       "    <tr>\n",
       "      <th>905</th>\n",
       "      <td>8</td>\n",
       "      <td>1</td>\n",
       "      <td>0</td>\n",
       "    </tr>\n",
       "  </tbody>\n",
       "</table>\n",
       "</div>"
      ],
      "text/plain": [
       "      Number  Prediction  Correct\n",
       "1553       8           1        0\n",
       "1571       8           9        0\n",
       "1581       8           4        0\n",
       "1729       3           5        0\n",
       "77         2           1        0\n",
       "792        6           0        0\n",
       "1095       4           9        0\n",
       "129        8           1        0\n",
       "905        8           1        0"
      ]
     },
     "execution_count": 106,
     "metadata": {},
     "output_type": "execute_result"
    }
   ],
   "source": [
    "accuracy_df_nn[accuracy_df_nn['Correct'] == 0]"
   ]
  },
  {
   "cell_type": "markdown",
   "id": "8fb27102",
   "metadata": {},
   "source": [
    "Unlike the KNN model, there is no proper pattern we see in what numbers are inaccurate. However, in both of the models the number 8 is harder to classify."
   ]
  },
  {
   "cell_type": "markdown",
   "id": "6cbd2fe9",
   "metadata": {},
   "source": [
    "## Testing on own data"
   ]
  },
  {
   "cell_type": "code",
   "execution_count": 107,
   "id": "b1cd74b4",
   "metadata": {
    "scrolled": true
   },
   "outputs": [
    {
     "name": "stdout",
     "output_type": "stream",
     "text": [
      "[0]\n",
      "[1]\n",
      "[2]\n",
      "[3]\n",
      "[4]\n",
      "[5]\n",
      "[5]\n",
      "[7]\n",
      "[8]\n",
      "[9]\n"
     ]
    }
   ],
   "source": [
    "for png in pngs:\n",
    "    print(nn_classifier.predict(img_transform(png)))"
   ]
  },
  {
   "cell_type": "markdown",
   "id": "862c15a8",
   "metadata": {},
   "source": [
    "Very surprisingly, our neural network model performed better than our KNN model on personal data, scoring 9/10 numbers accurately."
   ]
  },
  {
   "cell_type": "markdown",
   "id": "66245dc9",
   "metadata": {},
   "source": [
    "## Choosing Best model\n",
    "Our KNN model had a higher test accuracy score, but got a 2 points lower score when using our own data comparing to the NN model. The neural network also seems more consistent in the predictions since it mixed up 6 with 5, which is understandable since 5 and 6 have a slightly similar shape. The KNN model however got 9 mixed up with 1 which is a bigger flaw.\n",
    "\n",
    "For these reasons, the neural network model will be picked."
   ]
  },
  {
   "cell_type": "markdown",
   "id": "d77cf70a",
   "metadata": {},
   "source": [
    "## Saving model"
   ]
  },
  {
   "cell_type": "code",
   "execution_count": 110,
   "id": "085b81fc",
   "metadata": {},
   "outputs": [
    {
     "data": {
      "text/plain": [
       "['digit_classifier.pkl']"
      ]
     },
     "execution_count": 110,
     "metadata": {},
     "output_type": "execute_result"
    }
   ],
   "source": [
    "import joblib\n",
    "joblib.dump(nn_classifier,'digit_classifier.pkl')"
   ]
  },
  {
   "cell_type": "markdown",
   "id": "a55ad938",
   "metadata": {},
   "source": [
    "## Conclusion\n",
    "We have found out the best machine learning algorithm to identify a handwritten digit. At first we though that it was a KNN model due to the higher test accuracy scores, but upon further investigation on our own custom data, a neural network with two hidden layers, 128 neurons each, and a relu function outperformed the KNN model.\n",
    "\n",
    "Some Limitations and future improvements:\n",
    "- Do not limit images to only 8x8 pixels\n",
    "- Possible colour recognition\n",
    "- Have the ability to recognize larger numbers (e.g; 10, 11, 129)\n",
    "- Have the ability to recognize letters\n",
    "- Have the ability to recognize sentences which combine letters and numbers"
   ]
  }
 ],
 "metadata": {
  "kernelspec": {
   "display_name": "Python 3 (ipykernel)",
   "language": "python",
   "name": "python3"
  },
  "language_info": {
   "codemirror_mode": {
    "name": "ipython",
    "version": 3
   },
   "file_extension": ".py",
   "mimetype": "text/x-python",
   "name": "python",
   "nbconvert_exporter": "python",
   "pygments_lexer": "ipython3",
   "version": "3.9.7"
  }
 },
 "nbformat": 4,
 "nbformat_minor": 5
}
